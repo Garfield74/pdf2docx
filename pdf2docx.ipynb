{
  "nbformat": 4,
  "nbformat_minor": 0,
  "metadata": {
    "colab": {
      "name": "Untitled1.ipynb",
      "provenance": [],
      "collapsed_sections": [],
      "mount_file_id": "1re_muKUpctNf6sDNylJnmDjYjgLQh-ny",
      "authorship_tag": "ABX9TyN8An39zQKZXT2huvKwnmSY",
      "include_colab_link": true
    },
    "kernelspec": {
      "name": "python3",
      "display_name": "Python 3"
    },
    "language_info": {
      "name": "python"
    }
  },
  "cells": [
    {
      "cell_type": "markdown",
      "metadata": {
        "id": "view-in-github",
        "colab_type": "text"
      },
      "source": [
        "<a href=\"https://colab.research.google.com/github/Garfield74/pdf2docx/blob/main/pdf2docx.ipynb\" target=\"_parent\"><img src=\"https://colab.research.google.com/assets/colab-badge.svg\" alt=\"Open In Colab\"/></a>"
      ]
    },
    {
      "cell_type": "code",
      "execution_count": null,
      "metadata": {
        "id": "bJdVxkR_njnN"
      },
      "outputs": [],
      "source": [
        "pip install pdf2docx"
      ]
    },
    {
      "cell_type": "code",
      "source": [
        "from pdf2docx import Converter"
      ],
      "metadata": {
        "id": "HqfbNeUVoDn0"
      },
      "execution_count": 29,
      "outputs": []
    },
    {
      "cell_type": "code",
      "source": [
        "pdf_file = 'your pdf file name here'"
      ],
      "metadata": {
        "id": "KqwL1mVgoZlL"
      },
      "execution_count": 44,
      "outputs": []
    },
    {
      "cell_type": "code",
      "source": [
        "docx_file = 'your docx destination file name here'"
      ],
      "metadata": {
        "id": "OHqOrBdnvu-q"
      },
      "execution_count": 45,
      "outputs": []
    },
    {
      "cell_type": "code",
      "source": [
        "cv = Converter(pdf_file)"
      ],
      "metadata": {
        "id": "nVJbM6s4v6i4"
      },
      "execution_count": 46,
      "outputs": []
    },
    {
      "cell_type": "code",
      "source": [
        "cv.convert(docx_file)"
      ],
      "metadata": {
        "id": "PWnRF_Ifxm8z"
      },
      "execution_count": 47,
      "outputs": []
    },
    {
      "cell_type": "code",
      "source": [
        "cv.close()"
      ],
      "metadata": {
        "id": "i_kbMaY8x2kb"
      },
      "execution_count": 48,
      "outputs": []
    }
  ]
}