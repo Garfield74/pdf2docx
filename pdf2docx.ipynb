{
  "nbformat": 4,
  "nbformat_minor": 0,
  "metadata": {
    "colab": {
      "name": "Untitled1.ipynb",
      "provenance": [],
      "mount_file_id": "1re_muKUpctNf6sDNylJnmDjYjgLQh-ny",
      "authorship_tag": "ABX9TyMG2NIsEHlj5ZoP7ivhyJuj",
      "include_colab_link": true
    },
    "kernelspec": {
      "name": "python3",
      "display_name": "Python 3"
    },
    "language_info": {
      "name": "python"
    }
  },
  "cells": [
    {
      "cell_type": "markdown",
      "metadata": {
        "id": "view-in-github",
        "colab_type": "text"
      },
      "source": [
        "<a href=\"https://colab.research.google.com/github/Garfield74/pdf2docx/blob/main/pdf2docx.ipynb\" target=\"_parent\"><img src=\"https://colab.research.google.com/assets/colab-badge.svg\" alt=\"Open In Colab\"/></a>"
      ]
    },
    {
      "cell_type": "code",
      "execution_count": 28,
      "metadata": {
        "colab": {
          "base_uri": "https://localhost:8080/"
        },
        "id": "bJdVxkR_njnN",
        "outputId": "fe9530ca-ba92-4de4-a60c-f36c09a1d2ee"
      },
      "outputs": [
        {
          "output_type": "stream",
          "name": "stdout",
          "text": [
            "Looking in indexes: https://pypi.org/simple, https://us-python.pkg.dev/colab-wheels/public/simple/\n",
            "Requirement already satisfied: pdf2docx in /usr/local/lib/python3.7/dist-packages (0.5.6)\n",
            "Requirement already satisfied: opencv-python>=4.5 in /usr/local/lib/python3.7/dist-packages (from pdf2docx) (4.6.0.66)\n",
            "Requirement already satisfied: PyMuPDF>=1.19.0 in /usr/local/lib/python3.7/dist-packages (from pdf2docx) (1.20.2)\n",
            "Requirement already satisfied: fire>=0.3.0 in /usr/local/lib/python3.7/dist-packages (from pdf2docx) (0.4.0)\n",
            "Requirement already satisfied: numpy>=1.17.2 in /usr/local/lib/python3.7/dist-packages (from pdf2docx) (1.21.6)\n",
            "Requirement already satisfied: python-docx>=0.8.10 in /usr/local/lib/python3.7/dist-packages (from pdf2docx) (0.8.11)\n",
            "Requirement already satisfied: fonttools>=4.24.0 in /usr/local/lib/python3.7/dist-packages (from pdf2docx) (4.35.0)\n",
            "Requirement already satisfied: six in /usr/local/lib/python3.7/dist-packages (from fire>=0.3.0->pdf2docx) (1.15.0)\n",
            "Requirement already satisfied: termcolor in /usr/local/lib/python3.7/dist-packages (from fire>=0.3.0->pdf2docx) (1.1.0)\n",
            "Requirement already satisfied: lxml>=2.3.2 in /usr/local/lib/python3.7/dist-packages (from python-docx>=0.8.10->pdf2docx) (4.9.1)\n"
          ]
        }
      ],
      "source": [
        "pip install pdf2docx"
      ]
    },
    {
      "cell_type": "code",
      "source": [
        "from pdf2docx import Converter"
      ],
      "metadata": {
        "id": "HqfbNeUVoDn0"
      },
      "execution_count": 29,
      "outputs": []
    },
    {
      "cell_type": "code",
      "source": [
        "pdf_file = 'Analiza ERP - 11.07 (1).pdf'"
      ],
      "metadata": {
        "id": "KqwL1mVgoZlL"
      },
      "execution_count": 44,
      "outputs": []
    },
    {
      "cell_type": "code",
      "source": [
        "docx_file = 'Pdf2docx.docx'"
      ],
      "metadata": {
        "id": "OHqOrBdnvu-q"
      },
      "execution_count": 45,
      "outputs": []
    },
    {
      "cell_type": "code",
      "source": [
        "cv = Converter(pdf_file)"
      ],
      "metadata": {
        "id": "nVJbM6s4v6i4"
      },
      "execution_count": 46,
      "outputs": []
    },
    {
      "cell_type": "code",
      "source": [
        "cv.convert(docx_file)"
      ],
      "metadata": {
        "id": "PWnRF_Ifxm8z"
      },
      "execution_count": 47,
      "outputs": []
    },
    {
      "cell_type": "code",
      "source": [
        "cv.close()"
      ],
      "metadata": {
        "id": "i_kbMaY8x2kb"
      },
      "execution_count": 48,
      "outputs": []
    }
  ]
}